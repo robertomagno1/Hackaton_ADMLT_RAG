{
 "cells": [
  {
   "cell_type": "markdown",
   "id": "a6dd7f1c",
   "metadata": {},
   "source": [
    "Embedding on answer, based on \"longest = better\", the goal mostly was to skip placeholders, also we try to maximize the Recall getting the most of the \"golden word\" since it was not really specify how the evaluation would have been tecnically"
   ]
  },
  {
   "cell_type": "code",
   "execution_count": null,
   "id": "8bc2f666",
   "metadata": {},
   "outputs": [],
   "source": [
    "import pandas as pd\n",
    "\n",
    "files = [\n",
    "    \"submission (3).csv\",\n",
    "    \"submission (4).csv\",\n",
    "    \"submission_na (1).csv\",\n",
    "]\n",
    "\n",
    "dfs = [pd.read_csv(f) for f in files]\n",
    "\n",
    "# Combine \n",
    "combined = pd.concat(dfs, ignore_index=True)\n",
    "# Compute answer lengths (in tokens)\n",
    "combined['answer_length'] = combined['answer'].str.split().str.len()\n",
    "# For each id, pick the row with the longest answer\n",
    "idx = combined.groupby('id')['answer_length'].idxmax()\n",
    "best_answers = combined.loc[idx, ['id', 'answer']].sort_values('id')\n",
    "# Save the merged submission\n",
    "best_answers.to_csv(\"merged_submission.csv\", index=False)\n"
   ]
  },
  {
   "cell_type": "markdown",
   "id": "6b77c300",
   "metadata": {},
   "source": [
    "We merge with the question just to randomly check overall how they look like and we sample some to prompt to Gemini to see if the answer was actually correct or not"
   ]
  },
  {
   "cell_type": "code",
   "execution_count": null,
   "id": "65190b50",
   "metadata": {},
   "outputs": [
    {
     "name": "stdout",
     "output_type": "stream",
     "text": [
      "     id                                           question  \\\n",
      "0  1702           PBT2 has been tested for which disorder?   \n",
      "1  3135                   What does Prevnar 13 consist of?   \n",
      "2   650  List packages for transcription factor binding...   \n",
      "3   741  Is the circadian clock involved in ribosome bi...   \n",
      "4  2949     What is the mechanism of action of cemiplimab?   \n",
      "\n",
      "                                              answer  \n",
      "0                                Alzheimer's disease  \n",
      "1  13 serotype - specific polysaccharides of Stre...  \n",
      "2                                               TFBS  \n",
      "3  the circadian clock exerts a major role in coo...  \n",
      "4  binds to PD-1 and blocks its interaction with ...  \n"
     ]
    }
   ],
   "source": [
    "# upload test\n",
    "# Load the test file\n",
    "test_file = \"test.csv\"\n",
    "test_df = pd.read_csv(test_file)\n",
    "merged_test = pd.merge(test_df[['id', 'question']], best_answers, on='id')\n",
    "merged_test.to_csv(\"final_merged_test.csv\", index=False)"
   ]
  }
 ],
 "metadata": {
  "kernelspec": {
   "display_name": "BasicPy",
   "language": "python",
   "name": "python3"
  },
  "language_info": {
   "codemirror_mode": {
    "name": "ipython",
    "version": 3
   },
   "file_extension": ".py",
   "mimetype": "text/x-python",
   "name": "python",
   "nbconvert_exporter": "python",
   "pygments_lexer": "ipython3",
   "version": "3.12.2"
  }
 },
 "nbformat": 4,
 "nbformat_minor": 5
}
